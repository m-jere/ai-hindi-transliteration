{
 "cells": [
  {
   "cell_type": "code",
   "execution_count": 22,
   "id": "1f27b66b",
   "metadata": {},
   "outputs": [
    {
     "name": "stdout",
     "output_type": "stream",
     "text": [
      "20\n",
      "38\n",
      "15\n"
     ]
    }
   ],
   "source": [
    "dependent_vowel = {\n",
    "    'ा': 'ā', \n",
    "    'ि': 'i', \n",
    "    'ी': 'ī', \n",
    "    'ु': 'u', \n",
    "    'ू': 'ū', \n",
    "    'ृ': 'ri', \n",
    "    'ॄ': 'rr', \n",
    "    'ॅ': 'ĕ', \n",
    "    'ॆ': 'e', \n",
    "    'े': 'ê', \n",
    "    'ै': 'ai', \n",
    "    'ॉ': 'ŏ', \n",
    "    'ॊ': 'o', \n",
    "    'ो': 'ô', \n",
    "    'ौ': 'au', \n",
    "    '्': '', #lack of a vowel sound\n",
    "    'ं': 'ṃ',\n",
    "    'ं': 'n',\n",
    "    'ँ': 'n̐',\n",
    "    'ः': 'ḥ ',\n",
    "    '़': '', #accounts for regional differences, unsure of exact differences (kept 'a' to avoid errors)\n",
    "\n",
    "}\n",
    "print(len(dependent_vowel))\n",
    "consonant = {\n",
    "    'क': 'k',\n",
    "    'ख': 'kh',\n",
    "    'ग': 'g',\n",
    "    'घ': 'gh',\n",
    "    'ङ': 'ṅa',\n",
    "    'च': 'c',\n",
    "    'छ': 'ch',\n",
    "    'ज': 'j',\n",
    "    'झ': 'jh',\n",
    "    'ञ': 'ña',\n",
    "    'ट': 'ṭ',\n",
    "    'ठ': 'ṭh',\n",
    "    'ड': 'ḍ',\n",
    "    'ढ': 'ḍh',\n",
    "    'ण': 'ṇ',\n",
    "    'त': 't',\n",
    "    'थ': 'th',\n",
    "    'द': 'd',\n",
    "    'ध': 'dh',\n",
    "    'न': 'n',\n",
    "    'प': 'p',\n",
    "    'फ': 'f',\n",
    "    'ब': 'b',\n",
    "    'भ': 'bh',\n",
    "    'म': 'm',\n",
    "    'य': 'y',\n",
    "    'र': 'r',\n",
    "    'व': 'v',\n",
    "    'ल': 'l',\n",
    "    'श': 'sh',\n",
    "    'ष': 'shh',\n",
    "    'स': 'ś',\n",
    "    'ह': 'h',\n",
    "    'क्ष': 'ksh',\n",
    "    'त्र': 'tr',\n",
    "    'ज्ञ': 'gy',\n",
    "    'ऽ': \"'\",\n",
    "    'ळ': 'l',\n",
    "}\n",
    "print(len(consonant))\n",
    "independent_vowel = {\n",
    "    'अ':'a',\n",
    "    'आ':'aa',\n",
    "    'इ':'e',\n",
    "    'ई':'i',\n",
    "    'उ':'u',\n",
    "    'ऊ':'oo',\n",
    "    'ए':'a',\n",
    "    'ऐ':'ae',\n",
    "    'ओ':'o',\n",
    "    'औ':'ao',\n",
    "    'अं':'am',\n",
    "    'अः':'a',\n",
    "    'ऋ':'ri',\n",
    "    'ॠ':'rr',\n",
    "    'ऑ':'aw',\n",
    "}\n",
    "print(len(independent_vowels))\n"
   ]
  },
  {
   "cell_type": "code",
   "execution_count": 23,
   "id": "f5408a52",
   "metadata": {},
   "outputs": [],
   "source": [
    "def transliterate(word: str, dependent_vowel: dict, consonant: dict, independent_vowel: dict) -> str:\n",
    "    transliteration = ''\n",
    "    letter_type = []  \n",
    "\n",
    "    for char in word:\n",
    "        if char in dependent_vowel:\n",
    "            transliteration += dependent_vowel[char]\n",
    "            letter_type.append('d')\n",
    "        elif char in consonant:\n",
    "            transliteration += consonant[char]\n",
    "            letter_type.append('c')\n",
    "        else:\n",
    "            transliteration += independent_vowel[char]\n",
    "            letter_type.append('i')\n",
    "\n",
    "        # Check for consecutive consonants\n",
    "        if len(transliteration) > 1 and letter_type[-1] == 'c' and letter_type[-2] == 'c':\n",
    "            transliteration = transliteration[:-1] + 'a' + transliteration[-1]\n",
    "    return transliteration\n",
    "    "
   ]
  },
  {
   "cell_type": "code",
   "execution_count": 31,
   "id": "a90790bf",
   "metadata": {},
   "outputs": [
    {
     "name": "stdout",
     "output_type": "stream",
     "text": [
      "anādhikritapaṇê\n"
     ]
    }
   ],
   "source": [
    "output = transliterate('अनाधिकृतपणे', dependent_vowel, consonant, independent_vowel)\n",
    "print(output)"
   ]
  },
  {
   "cell_type": "code",
   "execution_count": 32,
   "id": "853b856f",
   "metadata": {},
   "outputs": [
    {
     "name": "stdout",
     "output_type": "stream",
     "text": [
      "pŏḍakāśṭar\n"
     ]
    }
   ],
   "source": [
    "output = transliterate('पॉडकास्टर', dependent_vowel, consonant, independent_vowel)\n",
    "print(output)"
   ]
  },
  {
   "cell_type": "code",
   "execution_count": 33,
   "id": "ce5ef606",
   "metadata": {},
   "outputs": [
    {
     "name": "stdout",
     "output_type": "stream",
     "text": [
      "bêynt\n"
     ]
    }
   ],
   "source": [
    "output = transliterate('बेयंत', dependent_vowel, consonant, independent_vowel)\n",
    "print(output)"
   ]
  },
  {
   "cell_type": "code",
   "execution_count": 34,
   "id": "d3cc4fed",
   "metadata": {},
   "outputs": [
    {
     "name": "stdout",
     "output_type": "stream",
     "text": [
      "bôjhi\n"
     ]
    }
   ],
   "source": [
    "output = transliterate('बोझि', dependent_vowel, consonant, independent_vowel)\n",
    "print(output)"
   ]
  },
  {
   "cell_type": "code",
   "execution_count": 35,
   "id": "85ffd558",
   "metadata": {},
   "outputs": [
    {
     "name": "stdout",
     "output_type": "stream",
     "text": [
      "bahānên\n"
     ]
    }
   ],
   "source": [
    "output = transliterate('बहानें', dependent_vowel, consonant, independent_vowel)\n",
    "print(output)"
   ]
  },
  {
   "cell_type": "code",
   "execution_count": 36,
   "id": "3499cc89",
   "metadata": {},
   "outputs": [
    {
     "name": "stdout",
     "output_type": "stream",
     "text": [
      "brêḍanabarg\n"
     ]
    }
   ],
   "source": [
    "output = transliterate('ब्रेडनबर्ग', dependent_vowel, consonant, independent_vowel)\n",
    "print(output)"
   ]
  },
  {
   "cell_type": "code",
   "execution_count": null,
   "id": "51707c4b",
   "metadata": {},
   "outputs": [],
   "source": []
  }
 ],
 "metadata": {
  "kernelspec": {
   "display_name": "Python 3 (ipykernel)",
   "language": "python",
   "name": "python3"
  },
  "language_info": {
   "codemirror_mode": {
    "name": "ipython",
    "version": 3
   },
   "file_extension": ".py",
   "mimetype": "text/x-python",
   "name": "python",
   "nbconvert_exporter": "python",
   "pygments_lexer": "ipython3",
   "version": "3.11.5"
  }
 },
 "nbformat": 4,
 "nbformat_minor": 5
}
